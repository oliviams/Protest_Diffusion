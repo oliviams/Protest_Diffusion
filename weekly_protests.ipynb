{
 "cells": [
  {
   "cell_type": "markdown",
   "id": "1efc82c3",
   "metadata": {},
   "source": [
    "## Joining of datasets to obtain full weekly data\n",
    "Joining population and location data to the protest dataset. The output format has all the locations for each week, which is then populated if a protest took place. Data is for 01-Jan-2020 to 20-May-2022 (week 20)"
   ]
  },
  {
   "cell_type": "code",
   "execution_count": 29,
   "id": "919d81c6",
   "metadata": {},
   "outputs": [],
   "source": [
    "import pandas as pd\n",
    "import numpy as np\n",
    "import warnings\n",
    "warnings.filterwarnings('ignore')"
   ]
  },
  {
   "cell_type": "code",
   "execution_count": 2,
   "id": "66f53d94",
   "metadata": {},
   "outputs": [],
   "source": [
    "coords = pd.read_csv('data/USDATA_HBCU.csv')\n",
    "urban_pop = pd.read_csv('data/US_Census_Urban_Area_ACSDP5Y2020.DP05-2022-06-14T153824.csv')\n",
    "protests = pd.read_csv('data/acled_locationMatched.csv')"
   ]
  },
  {
   "cell_type": "code",
   "execution_count": 3,
   "id": "cee6d458",
   "metadata": {},
   "outputs": [],
   "source": [
    "coords = coords.drop(['Unnamed: 0'], axis=1)"
   ]
  },
  {
   "cell_type": "markdown",
   "id": "2c64fc89",
   "metadata": {},
   "source": [
    "Urban area data contains three rows per location, here we are keeping only the one which contains the data we need"
   ]
  },
  {
   "cell_type": "code",
   "execution_count": 4,
   "id": "1f028dba",
   "metadata": {},
   "outputs": [],
   "source": [
    "urban_pop['Label'] = urban_pop['Label'].shift(2)\n",
    "urban_pop['Sex ratio (males per 100 females)'] = urban_pop['Sex ratio (males per 100 females)'].shift(1)\n",
    "urban_pop['Median age (years)'] = urban_pop['Median age (years)'].shift(1)\n",
    "urban_pop['Total housing units'] = urban_pop['Total housing units'].shift(1)\n",
    " \n",
    "to_keep = [(i*3)+2 for i in range(0,3592)]\n",
    "indices = list(range(0, 10776))\n",
    "to_drop = list(set(indices) - set(to_keep))\n",
    "\n",
    "urban_pop = urban_pop.drop(to_drop)"
   ]
  },
  {
   "cell_type": "code",
   "execution_count": 5,
   "id": "1fd041c7",
   "metadata": {},
   "outputs": [],
   "source": [
    "urban_pop['Label'] = urban_pop['Label'].str[:-6]\n",
    "urban_pop['Location'] = urban_pop['Label']\n",
    "urban_pop['Location'] = urban_pop['Location'].str.replace('-', '')\n",
    "urban_pop['Location'] = urban_pop['Location'].str.replace(',', '')\n",
    "urban_pop['Location'] = urban_pop['Location'].str.replace(' ', '')"
   ]
  },
  {
   "cell_type": "code",
   "execution_count": 6,
   "id": "ea554a47",
   "metadata": {},
   "outputs": [],
   "source": [
    "coords['Location'] = coords['NAMELSAD10']\n",
    "coords['Location'] = coords['Location'].str.replace('--', '')\n",
    "coords['Location'] = coords['Location'].str.replace('-', '')\n",
    "coords['Location'] = coords['Location'].str.replace(',', '')\n",
    "coords['Location'] = coords['Location'].str.replace(' ', '')"
   ]
  },
  {
   "cell_type": "code",
   "execution_count": 7,
   "id": "9a437550",
   "metadata": {},
   "outputs": [],
   "source": [
    "merged_data = pd.merge(coords,urban_pop,on='Location', how='left')\n",
    "merged_data.to_csv('data/population_data.csv')"
   ]
  },
  {
   "cell_type": "markdown",
   "id": "d7ffab97",
   "metadata": {},
   "source": [
    "# Protest Data"
   ]
  },
  {
   "cell_type": "code",
   "execution_count": 8,
   "id": "727f7c3a",
   "metadata": {},
   "outputs": [],
   "source": [
    "protests['Date'] = pd.to_datetime(protests['EVENT_DATE'])"
   ]
  },
  {
   "cell_type": "code",
   "execution_count": 9,
   "id": "f13ec614",
   "metadata": {},
   "outputs": [],
   "source": [
    "protests['Year-Week'] = protests['Date'].dt.strftime('%Y-%U')"
   ]
  },
  {
   "cell_type": "code",
   "execution_count": 10,
   "id": "c488c5bb",
   "metadata": {},
   "outputs": [],
   "source": [
    "weekly_df = pd.DataFrame(columns=merged_data.columns.to_list())"
   ]
  },
  {
   "cell_type": "code",
   "execution_count": 11,
   "id": "255091a0",
   "metadata": {},
   "outputs": [],
   "source": [
    "# Only needs to go up to week 20 for 2022\n",
    "for year in ['2020', '2021']:\n",
    "    for i in range(53):\n",
    "        df = merged_data.copy()\n",
    "        df['Year-Week'] = year + '-' + str(i)\n",
    "        weekly_df = weekly_df.append(df)\n",
    "        \n",
    "for i in range(21):\n",
    "        df = merged_data.copy()\n",
    "        df['Year-Week'] = '2022' + '-' + str(i)\n",
    "        weekly_df = weekly_df.append(df)"
   ]
  },
  {
   "cell_type": "code",
   "execution_count": 12,
   "id": "43bcdce4",
   "metadata": {},
   "outputs": [],
   "source": [
    "protests = protests.drop(['Unnamed: 0'], axis=1)\n",
    "protests = protests.drop(['X'], axis=1)\n",
    "protests['Protest?'] = 1"
   ]
  },
  {
   "cell_type": "markdown",
   "id": "883d10e8",
   "metadata": {},
   "source": [
    "## All protests"
   ]
  },
  {
   "cell_type": "code",
   "execution_count": 13,
   "id": "3d1d566b",
   "metadata": {},
   "outputs": [],
   "source": [
    "weekly_data = pd.merge(weekly_df,protests,on=['UACE10', 'GEOID10', 'NAME10', 'NAMELSAD10', 'INTPTLAT10', 'INTPTLON10', 'Year-Week'], how='left')"
   ]
  },
  {
   "cell_type": "code",
   "execution_count": 14,
   "id": "ed4a5ebf",
   "metadata": {},
   "outputs": [],
   "source": [
    "weekly_data['Protest?'].fillna(0, inplace=True)"
   ]
  },
  {
   "cell_type": "code",
   "execution_count": 15,
   "id": "384e4c90",
   "metadata": {},
   "outputs": [],
   "source": [
    "weekly_data = weekly_data.drop_duplicates(subset=['GEOID10', 'Year-Week'], keep='first')"
   ]
  },
  {
   "cell_type": "code",
   "execution_count": 16,
   "id": "0416e39a",
   "metadata": {},
   "outputs": [],
   "source": [
    "weekly_data.to_csv('data/weekly_protests.csv')"
   ]
  },
  {
   "cell_type": "markdown",
   "id": "9de6489d",
   "metadata": {},
   "source": [
    "## BLM only"
   ]
  },
  {
   "cell_type": "code",
   "execution_count": 17,
   "id": "76919d52",
   "metadata": {},
   "outputs": [],
   "source": [
    "blm = protests[protests['BLM'] == 1]"
   ]
  },
  {
   "cell_type": "code",
   "execution_count": 18,
   "id": "92dd9523",
   "metadata": {},
   "outputs": [],
   "source": [
    "blm_protests = pd.merge(weekly_df,blm,on=['UACE10', 'GEOID10', 'NAME10', 'NAMELSAD10', 'INTPTLAT10', 'INTPTLON10', 'Year-Week'], how='left')\n",
    "blm_protests['Protest?'].fillna(0, inplace=True)\n",
    "blm_protests = blm_protests.drop_duplicates(subset=['GEOID10', 'Year-Week'], keep='first')\n",
    "\n",
    "blm_protests.to_csv('data/blm_weekly_protests.csv')"
   ]
  },
  {
   "cell_type": "markdown",
   "id": "4c9280e2",
   "metadata": {},
   "source": [
    "## Alt-Right only"
   ]
  },
  {
   "cell_type": "code",
   "execution_count": 19,
   "id": "1cbdfb44",
   "metadata": {},
   "outputs": [],
   "source": [
    "alt_right = protests[protests['Alt.Right'] == 1]"
   ]
  },
  {
   "cell_type": "code",
   "execution_count": 20,
   "id": "2a268b3c",
   "metadata": {},
   "outputs": [],
   "source": [
    "alt_right_protests = pd.merge(weekly_df,alt_right,on=['UACE10', 'GEOID10', 'NAME10', 'NAMELSAD10', 'INTPTLAT10', 'INTPTLON10', 'Year-Week'], how='left')\n",
    "alt_right_protests['Protest?'].fillna(0, inplace=True)\n",
    "alt_right_protests = alt_right_protests.drop_duplicates(subset=['GEOID10', 'Year-Week'], keep='first')\n",
    "\n",
    "alt_right_protests.to_csv('data/alt-right_weekly_protests.csv')"
   ]
  },
  {
   "cell_type": "markdown",
   "id": "956e8a99",
   "metadata": {},
   "source": [
    "# Merged daily protest data"
   ]
  },
  {
   "cell_type": "code",
   "execution_count": 21,
   "id": "7af65cae",
   "metadata": {},
   "outputs": [],
   "source": [
    "protests_rel = protests[protests['Actor.Affiliation'].str.contains('Other Actors')==False]\n",
    "daily_protests = pd.merge(protests_rel, merged_data, on=['UACE10', 'GEOID10', 'NAME10', 'NAMELSAD10', 'INTPTLAT10', 'INTPTLON10'], how='left')\n",
    "daily_protests.to_csv('data/daily_protest_pop.csv')"
   ]
  },
  {
   "cell_type": "markdown",
   "id": "b09654d5",
   "metadata": {},
   "source": [
    "## First occurrence"
   ]
  },
  {
   "cell_type": "code",
   "execution_count": 23,
   "id": "0f2cd586",
   "metadata": {},
   "outputs": [],
   "source": [
    "first_occ = daily_protests.drop_duplicates(subset='GEOID10', keep='first')\n",
    "first_occ.to_csv('data/first_occurrence.csv')"
   ]
  },
  {
   "cell_type": "markdown",
   "id": "ebd57cb5",
   "metadata": {},
   "source": [
    "## Locations with/without protest occurrence"
   ]
  },
  {
   "cell_type": "code",
   "execution_count": 35,
   "id": "086d66b9",
   "metadata": {},
   "outputs": [],
   "source": [
    "occurrence = pd.merge(merged_data, first_occ, on=['UACE10', 'GEOID10', 'NAME10', 'NAMELSAD10', 'INTPTLAT10', 'INTPTLON10'], how='left')\n",
    "occurrence[['Protest?']] = np.where(occurrence[['Protest?']].isnull(), 0, 1)\n",
    "occurrence.to_csv('data/protest_occurrence.csv')"
   ]
  },
  {
   "cell_type": "code",
   "execution_count": null,
   "id": "7b4bc382",
   "metadata": {},
   "outputs": [],
   "source": []
  }
 ],
 "metadata": {
  "kernelspec": {
   "display_name": "Python 3 (ipykernel)",
   "language": "python",
   "name": "python3"
  },
  "language_info": {
   "codemirror_mode": {
    "name": "ipython",
    "version": 3
   },
   "file_extension": ".py",
   "mimetype": "text/x-python",
   "name": "python",
   "nbconvert_exporter": "python",
   "pygments_lexer": "ipython3",
   "version": "3.9.7"
  }
 },
 "nbformat": 4,
 "nbformat_minor": 5
}
