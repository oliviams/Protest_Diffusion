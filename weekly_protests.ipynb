{
 "cells": [
  {
   "cell_type": "markdown",
   "id": "1efc82c3",
   "metadata": {},
   "source": [
    "## Joining of datasets to obtain full weekly data\n",
    "Joining population and location data to the protest dataset. The output format has all the locations for each week, which is then populated if a protest took place"
   ]
  },
  {
   "cell_type": "code",
   "execution_count": 2,
   "id": "919d81c6",
   "metadata": {},
   "outputs": [],
   "source": [
    "import pandas as pd\n",
    "import warnings\n",
    "warnings.filterwarnings('ignore')"
   ]
  },
  {
   "cell_type": "code",
   "execution_count": 60,
   "id": "66f53d94",
   "metadata": {},
   "outputs": [],
   "source": [
    "coords = pd.read_csv('data/USDATA.csv')\n",
    "urban_pop = pd.read_csv('data/US_Census_Urban_Area_ACSDP5Y2020.DP05-2022-06-14T153824.csv')\n",
    "protests = pd.read_csv('data/acled_locationMatched.csv')"
   ]
  },
  {
   "cell_type": "code",
   "execution_count": 61,
   "id": "cee6d458",
   "metadata": {},
   "outputs": [],
   "source": [
    "coords = coords.drop(['Unnamed: 0'], axis=1)"
   ]
  },
  {
   "cell_type": "markdown",
   "id": "2c64fc89",
   "metadata": {},
   "source": [
    "Urban area data contains three rows per location, here we are keeping only the one which contains the data we need"
   ]
  },
  {
   "cell_type": "code",
   "execution_count": 62,
   "id": "1f028dba",
   "metadata": {},
   "outputs": [],
   "source": [
    "urban_pop['Label'] = urban_pop['Label'].shift(2)\n",
    "\n",
    "to_keep = [(i*3)+2 for i in range(0,3592)]\n",
    "indices = list(range(0, 10776))\n",
    "to_drop = list(set(indices) - set(to_keep))\n",
    "\n",
    "urban_pop = urban_pop.drop(to_drop)"
   ]
  },
  {
   "cell_type": "code",
   "execution_count": 63,
   "id": "1fd041c7",
   "metadata": {},
   "outputs": [],
   "source": [
    "urban_pop['Label'] = urban_pop['Label'].str.split('(').str[0]\n",
    "urban_pop['Location'] = urban_pop['Label']\n",
    "urban_pop['Location'] = urban_pop['Location'].str.replace('-', '')\n",
    "urban_pop['Location'] = urban_pop['Location'].str.replace(',', '')\n",
    "urban_pop['Location'] = urban_pop['Location'].str.replace(' ', '')"
   ]
  },
  {
   "cell_type": "code",
   "execution_count": 64,
   "id": "ea554a47",
   "metadata": {},
   "outputs": [],
   "source": [
    "coords['Location'] = coords['NAMELSAD10']\n",
    "coords['Location'] = coords['Location'].str.replace('--', '')\n",
    "coords['Location'] = coords['Location'].str.replace(',', '')\n",
    "coords['Location'] = coords['Location'].str.replace(' ', '')"
   ]
  },
  {
   "cell_type": "code",
   "execution_count": 65,
   "id": "9a437550",
   "metadata": {},
   "outputs": [],
   "source": [
    "merged_data = pd.merge(coords,urban_pop,on='Location', how='left')"
   ]
  },
  {
   "cell_type": "code",
   "execution_count": 66,
   "id": "727f7c3a",
   "metadata": {},
   "outputs": [],
   "source": [
    "protests['Date'] = pd.to_datetime(protests['EVENT_DATE'])"
   ]
  },
  {
   "cell_type": "code",
   "execution_count": 67,
   "id": "f13ec614",
   "metadata": {},
   "outputs": [],
   "source": [
    "protests['Year-Week'] = protests['Date'].dt.strftime('%Y-%U')"
   ]
  },
  {
   "cell_type": "code",
   "execution_count": 68,
   "id": "eede901d",
   "metadata": {},
   "outputs": [],
   "source": [
    "years = ['2020', '2021', '2022']"
   ]
  },
  {
   "cell_type": "code",
   "execution_count": 69,
   "id": "c488c5bb",
   "metadata": {},
   "outputs": [],
   "source": [
    "weekly_df = pd.DataFrame(columns=merged_data.columns.to_list())"
   ]
  },
  {
   "cell_type": "code",
   "execution_count": 70,
   "id": "67a0d413",
   "metadata": {},
   "outputs": [],
   "source": [
    "for year in years:\n",
    "    for i in range(53):\n",
    "        df = merged_data.copy()\n",
    "        df['Year-Week'] = year + '-' + str(i)\n",
    "        weekly_df = weekly_df.append(df)"
   ]
  },
  {
   "cell_type": "code",
   "execution_count": 71,
   "id": "43bcdce4",
   "metadata": {},
   "outputs": [],
   "source": [
    "protests = protests.drop(['Unnamed: 0'], axis=1)\n",
    "protests = protests.drop(['X'], axis=1)\n",
    "protests['Protest?'] = 1"
   ]
  },
  {
   "cell_type": "markdown",
   "id": "883d10e8",
   "metadata": {},
   "source": [
    "## All protests"
   ]
  },
  {
   "cell_type": "code",
   "execution_count": 72,
   "id": "3d1d566b",
   "metadata": {},
   "outputs": [],
   "source": [
    "weekly_data = pd.merge(weekly_df,protests,on=['UACE10', 'GEOID10', 'NAME10', 'NAMELSAD10', 'INTPTLAT10', 'INTPTLON10', 'Year-Week'], how='left')"
   ]
  },
  {
   "cell_type": "code",
   "execution_count": 73,
   "id": "a720eac4",
   "metadata": {},
   "outputs": [],
   "source": [
    "weekly_data['Protest?'].fillna(0, inplace=True)"
   ]
  },
  {
   "cell_type": "code",
   "execution_count": 74,
   "id": "384e4c90",
   "metadata": {},
   "outputs": [],
   "source": [
    "weekly_data = weekly_data.drop_duplicates(subset=['GEOID10', 'Year-Week'], keep='first')"
   ]
  },
  {
   "cell_type": "code",
   "execution_count": 75,
   "id": "0416e39a",
   "metadata": {},
   "outputs": [],
   "source": [
    "weekly_data.to_csv('data/weekly_protests.csv')"
   ]
  },
  {
   "cell_type": "markdown",
   "id": "9de6489d",
   "metadata": {},
   "source": [
    "## BLM only"
   ]
  },
  {
   "cell_type": "code",
   "execution_count": 76,
   "id": "76919d52",
   "metadata": {},
   "outputs": [],
   "source": [
    "blm = protests[protests['BLM'] == 1]"
   ]
  },
  {
   "cell_type": "code",
   "execution_count": 77,
   "id": "92dd9523",
   "metadata": {},
   "outputs": [],
   "source": [
    "blm_protests = pd.merge(weekly_df,blm,on=['UACE10', 'GEOID10', 'NAME10', 'NAMELSAD10', 'INTPTLAT10', 'INTPTLON10', 'Year-Week'], how='left')\n",
    "blm_protests['Protest?'].fillna(0, inplace=True)\n",
    "blm_protests = blm_protests.drop_duplicates(subset=['GEOID10', 'Year-Week'], keep='first')\n",
    "\n",
    "blm_protests.to_csv('data/blm_weekly_protests.csv')"
   ]
  },
  {
   "cell_type": "code",
   "execution_count": null,
   "id": "be5c0d6c",
   "metadata": {},
   "outputs": [],
   "source": []
  },
  {
   "cell_type": "code",
   "execution_count": null,
   "id": "9e5c4265",
   "metadata": {},
   "outputs": [],
   "source": []
  }
 ],
 "metadata": {
  "kernelspec": {
   "display_name": "Python 3 (ipykernel)",
   "language": "python",
   "name": "python3"
  },
  "language_info": {
   "codemirror_mode": {
    "name": "ipython",
    "version": 3
   },
   "file_extension": ".py",
   "mimetype": "text/x-python",
   "name": "python",
   "nbconvert_exporter": "python",
   "pygments_lexer": "ipython3",
   "version": "3.9.7"
  }
 },
 "nbformat": 4,
 "nbformat_minor": 5
}
