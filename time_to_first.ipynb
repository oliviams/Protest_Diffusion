{
 "cells": [
  {
   "cell_type": "markdown",
   "id": "7fb942a7",
   "metadata": {},
   "source": [
    "### Time to first protest since George Floyd\n",
    "\n",
    "George Floyd: 26 May 2020\n",
    "End of dataset: 20 May 2022"
   ]
  },
  {
   "cell_type": "code",
   "execution_count": 1,
   "id": "1e76e502",
   "metadata": {},
   "outputs": [],
   "source": [
    "import pandas as pd\n",
    "import numpy as np\n",
    "import warnings\n",
    "warnings.filterwarnings('ignore')"
   ]
  },
  {
   "cell_type": "code",
   "execution_count": 2,
   "id": "d60af007",
   "metadata": {},
   "outputs": [],
   "source": [
    "protests = pd.read_csv('data/daily_all_locs.csv')"
   ]
  },
  {
   "cell_type": "code",
   "execution_count": 3,
   "id": "a8caa407",
   "metadata": {},
   "outputs": [],
   "source": [
    "weekly_protests = pd.read_csv('data/combined_final_weekly_data.csv')"
   ]
  },
  {
   "cell_type": "markdown",
   "id": "46d35269",
   "metadata": {},
   "source": [
    "# BLM"
   ]
  },
  {
   "cell_type": "code",
   "execution_count": 4,
   "id": "76d05f5c",
   "metadata": {},
   "outputs": [],
   "source": [
    "blm_weekly = weekly_protests[weekly_protests['Actor.Affiliation_x'] != 'Alt-Right']\n",
    "blm_weekly['EVENT_DATE_x'] = pd.to_datetime(blm_weekly['EVENT_DATE_x'])  \n",
    "blm_weekly = blm_weekly[(blm_weekly['EVENT_DATE_x'] > '2020-05-25') | (blm_weekly['EVENT_DATE_x'].isna())]\n",
    "#blm_weekly = blm_weekly.sort_values(by='EVENT_DATE_x')\n",
    "#blm_weekly = blm_weekly.drop_duplicates(subset='GEOID10_x', keep='first')"
   ]
  },
  {
   "cell_type": "markdown",
   "id": "739bc8fe",
   "metadata": {},
   "source": [
    "Keeping all weeks with 'Protest?' = 0 until first protest occurs (only from week 2020-21 --> 26th May 2020)"
   ]
  },
  {
   "cell_type": "code",
   "execution_count": 5,
   "id": "b57373b5",
   "metadata": {},
   "outputs": [],
   "source": [
    "weeks = []\n",
    "for i in range(0,21):\n",
    "    weeks.append('2020-'+str(i))\n",
    "    \n",
    "blm_weekly = blm_weekly[~blm_weekly['Year-Week'].isin(weeks)]"
   ]
  },
  {
   "cell_type": "code",
   "execution_count": 6,
   "id": "1e05b490",
   "metadata": {},
   "outputs": [],
   "source": [
    "m = (blm_weekly['Protest?_x'].eq(1)\n",
    "       .groupby(blm_weekly['GEOID10_x'])\n",
    "       .apply(lambda x: ~x.cummax().shift().fillna(False)))\n",
    "\n",
    "blm_weekly = blm_weekly[m]"
   ]
  },
  {
   "cell_type": "code",
   "execution_count": 7,
   "id": "f165d562",
   "metadata": {},
   "outputs": [],
   "source": [
    "blm_weekly['Not immune'] = blm_weekly.groupby('NAME10_x')['Protest?_x'].transform('max')"
   ]
  },
  {
   "cell_type": "markdown",
   "id": "116a279c",
   "metadata": {},
   "source": [
    "Adding number of days since George Floyd for those that do have protest"
   ]
  },
  {
   "cell_type": "code",
   "execution_count": 20,
   "id": "10befb59",
   "metadata": {},
   "outputs": [],
   "source": [
    "blm_weekly['Time to first BLM protest since GF'] = blm_weekly['EVENT_DATE_x'] - pd.to_datetime('2020-05-26')\n",
    "blm_weekly['Time to first BLM protest since GF'] = (blm_weekly['Time to first BLM protest since GF']).dt.days"
   ]
  },
  {
   "cell_type": "code",
   "execution_count": 145,
   "id": "5994ae47",
   "metadata": {},
   "outputs": [],
   "source": [
    "blm_weekly['Weeks since GF'] = (pd.to_datetime(blm_weekly['Year-Week'] + '-0', format='%Y-%U-%w') - pd.to_datetime('2020-20-0', format='%Y-%U-%w')) / np.timedelta64(1, 'W')"
   ]
  },
  {
   "cell_type": "code",
   "execution_count": 146,
   "id": "b55509f0",
   "metadata": {},
   "outputs": [],
   "source": [
    "states = blm_weekly.State_x.unique().tolist()"
   ]
  },
  {
   "cell_type": "code",
   "execution_count": 147,
   "id": "3097e9dd",
   "metadata": {},
   "outputs": [],
   "source": [
    "for state in states:\n",
    "    blm_weekly.loc[blm_weekly['State_x'] == state, state] = 1\n",
    "    blm_weekly[state] = blm_weekly[state].fillna(0)"
   ]
  },
  {
   "cell_type": "code",
   "execution_count": 148,
   "id": "10e822b9",
   "metadata": {},
   "outputs": [],
   "source": [
    "blm_weekly.to_csv('data/blm_weekly_first_gf.csv')"
   ]
  },
  {
   "cell_type": "markdown",
   "id": "b46cd783",
   "metadata": {},
   "source": [
    "### Daily - not currently using this"
   ]
  },
  {
   "cell_type": "code",
   "execution_count": 55,
   "id": "b988b09a",
   "metadata": {},
   "outputs": [],
   "source": [
    "blm = protests[protests['Actor.Affiliation'] != 'Alt-Right']\n",
    "blm['EVENT_DATE'] = pd.to_datetime(blm['EVENT_DATE'])  \n",
    "blm = blm[(blm['EVENT_DATE'] > '2020-05-25') | (blm['EVENT_DATE'].isna())]\n",
    "blm = blm.sort_values(by='EVENT_DATE')\n",
    "blm = blm.drop_duplicates(subset='GEOID10', keep='first')\n",
    "blm['Time to first protest since GF'] = blm['EVENT_DATE'] - pd.to_datetime('2020-05-26')\n",
    "blm['Time to first protest since GF'] = blm['Time to first protest since GF'].fillna(pd.to_datetime('2022-05-20') - pd.to_datetime('2020-05-26'))                                                              \n",
    "blm['Time to first protest since GF'] = (blm['Time to first protest since GF']).dt.days"
   ]
  },
  {
   "cell_type": "markdown",
   "id": "ac022ae0",
   "metadata": {},
   "source": [
    "# Right wing"
   ]
  },
  {
   "cell_type": "code",
   "execution_count": 77,
   "id": "f888cc7d",
   "metadata": {},
   "outputs": [],
   "source": [
    "right_weekly = weekly_protests[weekly_protests['Actor.Affiliation_y'] != 'BLM']\n",
    "right_weekly['EVENT_DATE_y'] = pd.to_datetime(right_weekly['EVENT_DATE_y'])  \n",
    "right_weekly = right_weekly[(right_weekly['EVENT_DATE_y'] > '2020-05-25') | (right_weekly['EVENT_DATE_y'].isna())]\n",
    "right_weekly = right_weekly.sort_values(by='EVENT_DATE_y')\n",
    "right_weekly = right_weekly.drop_duplicates(subset='GEOID10_x', keep='first')"
   ]
  },
  {
   "cell_type": "code",
   "execution_count": 79,
   "id": "646a086f",
   "metadata": {},
   "outputs": [],
   "source": [
    "right_weekly['Time to first right protest since GF'] = right_weekly['EVENT_DATE_y'] - pd.to_datetime('2020-05-26')\n",
    "right_weekly['Time to first right protest since GF'] = right_weekly['Time to first right protest since GF'].fillna(pd.to_datetime('2022-05-20') - pd.to_datetime('2020-05-26'))                                                              \n",
    "right_weekly['Time to first right protest since GF'] = (right_weekly['Time to first right protest since GF']).dt.days"
   ]
  },
  {
   "cell_type": "code",
   "execution_count": 80,
   "id": "3f021f05",
   "metadata": {},
   "outputs": [],
   "source": [
    "right_weekly.to_csv('data/right_weekly_first_gf.csv')"
   ]
  },
  {
   "cell_type": "markdown",
   "id": "6fa9f0a6",
   "metadata": {},
   "source": [
    "# Breonna Taylor"
   ]
  },
  {
   "cell_type": "code",
   "execution_count": 5,
   "id": "878bf018",
   "metadata": {},
   "outputs": [],
   "source": [
    "blm_bt = weekly_protests[weekly_protests['Actor.Affiliation_x'] != 'Alt-Right']\n",
    "blm_bt['EVENT_DATE_x'] = pd.to_datetime(blm_bt['EVENT_DATE_x'])  \n",
    "blm_bt = blm_bt[(blm_bt['EVENT_DATE_x'] > '2020-03-12') | (blm_bt['EVENT_DATE_x'].isna())]\n",
    "blm_bt = blm_bt.sort_values(by='EVENT_DATE_x')\n",
    "blm_bt = blm_bt.drop_duplicates(subset='GEOID10_x', keep='first')\n",
    "\n",
    "blm_bt['Time to first BLM protest since BT'] = blm_bt['EVENT_DATE_x'] - pd.to_datetime('2020-03-13')\n",
    "blm_bt['Time to first BLM protest since BT'] = blm_bt['Time to first BLM protest since BT'].fillna(pd.to_datetime('2022-05-20') - pd.to_datetime('2020-03-13'))                                                              \n",
    "blm_bt['Time to first BLM protest since BT'] = (blm_bt['Time to first BLM protest since BT']).dt.days\n",
    "\n",
    "blm_bt.to_csv('data/blm_weekly_first_bt.csv')"
   ]
  },
  {
   "cell_type": "markdown",
   "id": "87765f67",
   "metadata": {},
   "source": [
    "# Ahmaud Arbery "
   ]
  },
  {
   "cell_type": "code",
   "execution_count": 6,
   "id": "8d1a862a",
   "metadata": {},
   "outputs": [],
   "source": [
    "blm_aa = weekly_protests[weekly_protests['Actor.Affiliation_x'] != 'Alt-Right']\n",
    "blm_aa['EVENT_DATE_x'] = pd.to_datetime(blm_aa['EVENT_DATE_x'])  \n",
    "blm_aa = blm_aa[(blm_aa['EVENT_DATE_x'] > '2020-02-22') | (blm_aa['EVENT_DATE_x'].isna())]\n",
    "blm_aa = blm_aa.sort_values(by='EVENT_DATE_x')\n",
    "blm_aa = blm_aa.drop_duplicates(subset='GEOID10_x', keep='first')\n",
    "\n",
    "blm_aa['Time to first BLM protest since AA'] = blm_aa['EVENT_DATE_x'] - pd.to_datetime('2020-02-23')\n",
    "blm_aa['Time to first BLM protest since AA'] = blm_aa['Time to first BLM protest since AA'].fillna(pd.to_datetime('2022-05-20') - pd.to_datetime('2020-02-23'))                                                              \n",
    "blm_aa['Time to first BLM protest since AA'] = (blm_aa['Time to first BLM protest since AA']).dt.days\n",
    "\n",
    "blm_aa.to_csv('data/blm_weekly_first_aa.csv')"
   ]
  },
  {
   "cell_type": "code",
   "execution_count": null,
   "id": "c37d773a",
   "metadata": {},
   "outputs": [],
   "source": []
  }
 ],
 "metadata": {
  "kernelspec": {
   "display_name": "Python 3",
   "language": "python",
   "name": "python3"
  },
  "language_info": {
   "codemirror_mode": {
    "name": "ipython",
    "version": 3
   },
   "file_extension": ".py",
   "mimetype": "text/x-python",
   "name": "python",
   "nbconvert_exporter": "python",
   "pygments_lexer": "ipython3",
   "version": "3.8.8"
  }
 },
 "nbformat": 4,
 "nbformat_minor": 5
}
