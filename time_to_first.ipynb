{
 "cells": [
  {
   "cell_type": "markdown",
   "id": "7fb942a7",
   "metadata": {},
   "source": [
    "### Time to first protest since George Floyd\n",
    "\n",
    "George Floyd: 26 May 2020\n",
    "End of dataset: 20 May 2022"
   ]
  },
  {
   "cell_type": "code",
   "execution_count": 1,
   "id": "1e76e502",
   "metadata": {},
   "outputs": [],
   "source": [
    "import pandas as pd\n",
    "import numpy as np\n",
    "import math\n",
    "import warnings\n",
    "warnings.filterwarnings('ignore')"
   ]
  },
  {
   "cell_type": "code",
   "execution_count": 2,
   "id": "d60af007",
   "metadata": {},
   "outputs": [],
   "source": [
    "protests = pd.read_csv('data/daily_all_locs.csv')"
   ]
  },
  {
   "cell_type": "code",
   "execution_count": 3,
   "id": "a8caa407",
   "metadata": {},
   "outputs": [],
   "source": [
    "weekly_protests = pd.read_csv('data/combined_final_weekly_data.csv')"
   ]
  },
  {
   "cell_type": "code",
   "execution_count": 4,
   "id": "25c3b890",
   "metadata": {},
   "outputs": [],
   "source": [
    "dist = pd.read_csv('data/dist_matrix_name.csv')\n",
    "dist = dist.set_index('NAME10')"
   ]
  },
  {
   "cell_type": "code",
   "execution_count": 5,
   "id": "b75a850a",
   "metadata": {},
   "outputs": [],
   "source": [
    "def temp_spatial_effect(dist, time_col):\n",
    "    \"\"\"Mutiplying time since last event by\n",
    "    distance to that location (using inverse of time\n",
    "    and distance as effect greater when closer)\"\"\"\n",
    "    \n",
    "    dist = dist.copy()\n",
    "    dist_inv = 1/dist\n",
    "    dist_inv[dist_inv == np.inf] = 1\n",
    "    \n",
    "    time_since = [time_col.fillna(0)[x:x+3601] for x in range(0, len(time_col), 3601)]\n",
    "    time_inv = [[1/a if a!=0 else 1 for a in i] for i in time_since]\n",
    "    \n",
    "    temp_sp = []\n",
    "    for i in range(0, 106):\n",
    "        temp_sp.append(np.dot(time_inv[i], dist_inv).tolist())\n",
    "\n",
    "    return [i for a in temp_sp for i in a]"
   ]
  },
  {
   "cell_type": "markdown",
   "id": "46d35269",
   "metadata": {},
   "source": [
    "# BLM"
   ]
  },
  {
   "cell_type": "code",
   "execution_count": 6,
   "id": "885c7815",
   "metadata": {},
   "outputs": [],
   "source": [
    "weeks = []\n",
    "for i in range(21):\n",
    "    weeks.append('2020-' + str(i))"
   ]
  },
  {
   "cell_type": "code",
   "execution_count": 7,
   "id": "76d05f5c",
   "metadata": {},
   "outputs": [],
   "source": [
    "blm_weekly = weekly_protests[~weekly_protests['Year-Week'].isin(weeks)]"
   ]
  },
  {
   "cell_type": "markdown",
   "id": "8bec5e94",
   "metadata": {},
   "source": [
    "### Time since first event"
   ]
  },
  {
   "cell_type": "code",
   "execution_count": 8,
   "id": "740b97a0",
   "metadata": {},
   "outputs": [],
   "source": [
    "protest_list = blm_weekly['Protest?_x'].to_list()\n",
    "split_list = [protest_list[x:x+3601] for x in range(0, len(protest_list), 3601)]"
   ]
  },
  {
   "cell_type": "code",
   "execution_count": 9,
   "id": "4ae4f166",
   "metadata": {},
   "outputs": [],
   "source": [
    "time_first = []\n",
    "\n",
    "for i in range(0, 3601):\n",
    "    time = []\n",
    "    weeks = np.nan\n",
    "    for j in range(0, 106):\n",
    "        if split_list[j][i] == 0:\n",
    "            if weeks == np.nan:\n",
    "                pass\n",
    "            else:\n",
    "                weeks = weeks + 1\n",
    "\n",
    "        elif split_list[j][i] == 1:\n",
    "            if math.isnan(weeks):\n",
    "                weeks = 0\n",
    "            else:\n",
    "                weeks = weeks + 1\n",
    "\n",
    "        time.append(weeks)\n",
    "    time = [np.nan if x == 0 else x for x in time] \n",
    "    time_first.append(time)\n",
    "\n",
    "first_event = []\n",
    "\n",
    "for i in range(0, 106):\n",
    "    weekly = []\n",
    "    for j in time_first:\n",
    "        weekly.append(j[i])\n",
    "\n",
    "    first_event.append(weekly)\n",
    "\n",
    "flat_first_event = [i for a in first_event for i in a] \n",
    "\n",
    "\n",
    "blm_weekly['Time since first event'] = flat_first_event "
   ]
  },
  {
   "cell_type": "code",
   "execution_count": 14,
   "id": "77139a84",
   "metadata": {},
   "outputs": [],
   "source": [
    "blm_weekly['Temp*spatial first event (all)'] = temp_spatial_effect(dist, blm_weekly['Time since first event'])\n",
    "blm_weekly['Temp*spatial last event (all)'] = temp_spatial_effect(dist, blm_weekly['Time since last event_x'])"
   ]
  },
  {
   "cell_type": "markdown",
   "id": "7945fb00",
   "metadata": {},
   "source": [
    "### Under 50km and same state"
   ]
  },
  {
   "cell_type": "code",
   "execution_count": 15,
   "id": "6215eb98",
   "metadata": {},
   "outputs": [],
   "source": [
    "dist_50 = dist[dist<50]\n",
    "blm_weekly['Temp*spatial first event (<50km)'] = temp_spatial_effect(dist_50, blm_weekly['Time since first event'])\n",
    "blm_weekly['Temp*spatial last event (<50km)'] = temp_spatial_effect(dist_50, blm_weekly['Time since last event_x'])"
   ]
  },
  {
   "cell_type": "code",
   "execution_count": 16,
   "id": "4540f1cf",
   "metadata": {},
   "outputs": [],
   "source": [
    "blm_weekly['State_x']\n",
    "\n",
    "locs = dist.columns.to_list()\n",
    "locs = [i.split(',')[1] for i in locs]\n",
    "locs = [i.strip()[:2] for i in locs]\n",
    "\n",
    "dist_st = dist.copy()\n",
    "dist_st.columns = locs\n",
    "dist_st['State'] = locs\n",
    "\n",
    "dist_st = dist_st.set_index('State')\n",
    "dist_st.mask(np.not_equal.outer(dist_st.index, dist_st.columns))\n",
    "\n",
    "blm_weekly['Temp*spatial first event (same state)'] = temp_spatial_effect(dist_st, blm_weekly['Time since first event'])\n",
    "blm_weekly['Temp*spatial last event (same state)'] = temp_spatial_effect(dist_st, blm_weekly['Time since last event_x'])"
   ]
  },
  {
   "cell_type": "code",
   "execution_count": 17,
   "id": "40b9a784",
   "metadata": {},
   "outputs": [],
   "source": [
    "blm_weekly['Temp*spatial first event (state >50km)'] = blm_weekly['Temp*spatial first event (same state)'] - blm_weekly['Temp*spatial first event (<50km)']\n",
    "blm_weekly['Temp*spatial first event (non-state)'] = blm_weekly['Temp*spatial first event (all)'] - blm_weekly['Temp*spatial first event (same state)']\n",
    "\n",
    "blm_weekly['Temp*spatial last event (state >50km)'] = blm_weekly['Temp*spatial last event (same state)'] - blm_weekly['Temp*spatial last event (<50km)']\n",
    "blm_weekly['Temp*spatial last event (non-state)'] = blm_weekly['Temp*spatial last event (all)'] - blm_weekly['Temp*spatial last event (same state)']"
   ]
  },
  {
   "cell_type": "markdown",
   "id": "739bc8fe",
   "metadata": {},
   "source": [
    "Keeping all weeks with 'Protest?' = 0 until first protest occurs (only from week 2020-21 --> 26th May 2020)"
   ]
  },
  {
   "cell_type": "code",
   "execution_count": 18,
   "id": "1e05b490",
   "metadata": {},
   "outputs": [],
   "source": [
    "m = (blm_weekly['Protest?_x'].eq(1)\n",
    "       .groupby(blm_weekly['GEOID10_x'])\n",
    "       .apply(lambda x: ~x.cummax().shift().fillna(False)))\n",
    "\n",
    "blm_weekly = blm_weekly[m]"
   ]
  },
  {
   "cell_type": "code",
   "execution_count": 19,
   "id": "cfeb28f1",
   "metadata": {},
   "outputs": [],
   "source": [
    "blm_weekly['Not immune'] = blm_weekly.groupby('NAME10_x')['Protest?_x'].transform('max')"
   ]
  },
  {
   "cell_type": "markdown",
   "id": "116a279c",
   "metadata": {},
   "source": [
    "Adding number of days since George Floyd for those that do have protest"
   ]
  },
  {
   "cell_type": "code",
   "execution_count": 20,
   "id": "616efb18",
   "metadata": {},
   "outputs": [],
   "source": [
    "blm_weekly['Time to first BLM protest since GF'] = pd.to_datetime(blm_weekly['EVENT_DATE_x']) - pd.to_datetime('2020-05-26')\n",
    "blm_weekly['Time to first BLM protest since GF'] = (blm_weekly['Time to first BLM protest since GF']).dt.days"
   ]
  },
  {
   "cell_type": "code",
   "execution_count": 21,
   "id": "5994ae47",
   "metadata": {},
   "outputs": [],
   "source": [
    "blm_weekly['Weeks since GF'] = (pd.to_datetime(blm_weekly['Year-Week'] + '-0', format='%Y-%U-%w') - pd.to_datetime('2020-20-0', format='%Y-%U-%w')) / np.timedelta64(1, 'W')"
   ]
  },
  {
   "cell_type": "code",
   "execution_count": 22,
   "id": "b55509f0",
   "metadata": {},
   "outputs": [],
   "source": [
    "states = blm_weekly.State_x.unique().tolist()"
   ]
  },
  {
   "cell_type": "code",
   "execution_count": 23,
   "id": "3097e9dd",
   "metadata": {},
   "outputs": [],
   "source": [
    "for state in states:\n",
    "    blm_weekly.loc[blm_weekly['State_x'] == state, state] = 1\n",
    "    blm_weekly[state] = blm_weekly[state].fillna(0)"
   ]
  },
  {
   "cell_type": "code",
   "execution_count": null,
   "id": "10e822b9",
   "metadata": {},
   "outputs": [],
   "source": [
    "blm_weekly.to_csv('data/blm_weekly_first_gf.csv')"
   ]
  },
  {
   "cell_type": "markdown",
   "id": "b46cd783",
   "metadata": {},
   "source": [
    "### Daily - not currently using this"
   ]
  },
  {
   "cell_type": "code",
   "execution_count": null,
   "id": "b988b09a",
   "metadata": {},
   "outputs": [],
   "source": [
    "blm = protests[protests['Actor.Affiliation'] != 'Alt-Right']\n",
    "blm['EVENT_DATE'] = pd.to_datetime(blm['EVENT_DATE'])  \n",
    "blm = blm[(blm['EVENT_DATE'] > '2020-05-25') | (blm['EVENT_DATE'].isna())]\n",
    "blm = blm.sort_values(by='EVENT_DATE')\n",
    "blm = blm.drop_duplicates(subset='GEOID10', keep='first')\n",
    "blm['Time to first protest since GF'] = blm['EVENT_DATE'] - pd.to_datetime('2020-05-26')\n",
    "blm['Time to first protest since GF'] = blm['Time to first protest since GF'].fillna(pd.to_datetime('2022-05-20') - pd.to_datetime('2020-05-26'))                                                              \n",
    "blm['Time to first protest since GF'] = (blm['Time to first protest since GF']).dt.days"
   ]
  },
  {
   "cell_type": "markdown",
   "id": "ac022ae0",
   "metadata": {},
   "source": [
    "# Right wing"
   ]
  },
  {
   "cell_type": "code",
   "execution_count": null,
   "id": "f888cc7d",
   "metadata": {},
   "outputs": [],
   "source": [
    "right_weekly = weekly_protests[weekly_protests['Actor.Affiliation_y'] != 'BLM']\n",
    "right_weekly['EVENT_DATE_y'] = pd.to_datetime(right_weekly['EVENT_DATE_y'])  \n",
    "right_weekly = right_weekly[(right_weekly['EVENT_DATE_y'] > '2020-05-25') | (right_weekly['EVENT_DATE_y'].isna())]\n",
    "right_weekly = right_weekly.sort_values(by='EVENT_DATE_y')\n",
    "right_weekly = right_weekly.drop_duplicates(subset='GEOID10_x', keep='first')"
   ]
  },
  {
   "cell_type": "code",
   "execution_count": null,
   "id": "646a086f",
   "metadata": {},
   "outputs": [],
   "source": [
    "right_weekly['Time to first right protest since GF'] = right_weekly['EVENT_DATE_y'] - pd.to_datetime('2020-05-26')\n",
    "right_weekly['Time to first right protest since GF'] = right_weekly['Time to first right protest since GF'].fillna(pd.to_datetime('2022-05-20') - pd.to_datetime('2020-05-26'))                                                              \n",
    "right_weekly['Time to first right protest since GF'] = (right_weekly['Time to first right protest since GF']).dt.days"
   ]
  },
  {
   "cell_type": "code",
   "execution_count": null,
   "id": "3f021f05",
   "metadata": {},
   "outputs": [],
   "source": [
    "right_weekly.to_csv('data/right_weekly_first_gf.csv')"
   ]
  },
  {
   "cell_type": "markdown",
   "id": "6fa9f0a6",
   "metadata": {},
   "source": [
    "# Breonna Taylor"
   ]
  },
  {
   "cell_type": "code",
   "execution_count": null,
   "id": "878bf018",
   "metadata": {},
   "outputs": [],
   "source": [
    "blm_bt = weekly_protests[weekly_protests['Actor.Affiliation_x'] != 'Alt-Right']\n",
    "blm_bt['EVENT_DATE_x'] = pd.to_datetime(blm_bt['EVENT_DATE_x'])  \n",
    "blm_bt = blm_bt[(blm_bt['EVENT_DATE_x'] > '2020-03-12') | (blm_bt['EVENT_DATE_x'].isna())]\n",
    "blm_bt = blm_bt.sort_values(by='EVENT_DATE_x')\n",
    "blm_bt = blm_bt.drop_duplicates(subset='GEOID10_x', keep='first')\n",
    "\n",
    "blm_bt['Time to first BLM protest since BT'] = blm_bt['EVENT_DATE_x'] - pd.to_datetime('2020-03-13')\n",
    "blm_bt['Time to first BLM protest since BT'] = blm_bt['Time to first BLM protest since BT'].fillna(pd.to_datetime('2022-05-20') - pd.to_datetime('2020-03-13'))                                                              \n",
    "blm_bt['Time to first BLM protest since BT'] = (blm_bt['Time to first BLM protest since BT']).dt.days\n",
    "\n",
    "blm_bt.to_csv('data/blm_weekly_first_bt.csv')"
   ]
  },
  {
   "cell_type": "markdown",
   "id": "87765f67",
   "metadata": {},
   "source": [
    "# Ahmaud Arbery "
   ]
  },
  {
   "cell_type": "code",
   "execution_count": null,
   "id": "8d1a862a",
   "metadata": {},
   "outputs": [],
   "source": [
    "blm_aa = weekly_protests[weekly_protests['Actor.Affiliation_x'] != 'Alt-Right']\n",
    "blm_aa['EVENT_DATE_x'] = pd.to_datetime(blm_aa['EVENT_DATE_x'])  \n",
    "blm_aa = blm_aa[(blm_aa['EVENT_DATE_x'] > '2020-02-22') | (blm_aa['EVENT_DATE_x'].isna())]\n",
    "blm_aa = blm_aa.sort_values(by='EVENT_DATE_x')\n",
    "blm_aa = blm_aa.drop_duplicates(subset='GEOID10_x', keep='first')\n",
    "\n",
    "blm_aa['Time to first BLM protest since AA'] = blm_aa['EVENT_DATE_x'] - pd.to_datetime('2020-02-23')\n",
    "blm_aa['Time to first BLM protest since AA'] = blm_aa['Time to first BLM protest since AA'].fillna(pd.to_datetime('2022-05-20') - pd.to_datetime('2020-02-23'))                                                              \n",
    "blm_aa['Time to first BLM protest since AA'] = (blm_aa['Time to first BLM protest since AA']).dt.days\n",
    "\n",
    "blm_aa.to_csv('data/blm_weekly_first_aa.csv')"
   ]
  },
  {
   "cell_type": "code",
   "execution_count": null,
   "id": "c37d773a",
   "metadata": {},
   "outputs": [],
   "source": []
  }
 ],
 "metadata": {
  "kernelspec": {
   "display_name": "Python 3",
   "language": "python",
   "name": "python3"
  },
  "language_info": {
   "codemirror_mode": {
    "name": "ipython",
    "version": 3
   },
   "file_extension": ".py",
   "mimetype": "text/x-python",
   "name": "python",
   "nbconvert_exporter": "python",
   "pygments_lexer": "ipython3",
   "version": "3.8.8"
  }
 },
 "nbformat": 4,
 "nbformat_minor": 5
}
