{
 "cells": [
  {
   "cell_type": "markdown",
   "id": "56f412e7",
   "metadata": {},
   "source": [
    "## Adding actor affiliation \n",
    "Adding columns to classify the actors involved in the protest - this comes from the ASSOC_ACTOR_1 and ASSOC_ACTOR_2 columns. Classified into those associated to the BLM movement, white nationalist or other."
   ]
  },
  {
   "cell_type": "code",
   "execution_count": 9,
   "id": "fa1e9a48",
   "metadata": {},
   "outputs": [],
   "source": [
    "import pandas as pd"
   ]
  },
  {
   "cell_type": "code",
   "execution_count": 10,
   "id": "5ae74288",
   "metadata": {},
   "outputs": [],
   "source": [
    "protests = pd.read_csv('data/ACLED_USA_2020_2022_May20.csv')"
   ]
  },
  {
   "cell_type": "code",
   "execution_count": 11,
   "id": "18cfdbd9",
   "metadata": {},
   "outputs": [],
   "source": [
    "blm_actors = [\n",
    "    'BLM: Black Lives Matter',\n",
    "    'NUL: National Urban League',\n",
    "    'Black, Young, And Educated',\n",
    "    'SCLC: Southern Christian Leadership Conference',\n",
    "    'JUICE: Justice Unites Individuals and Communities Everywhere',\n",
    "    'YBPP: Young Black Panther Party',\n",
    "    \"APSP: African People's Socialist Party\",\n",
    "    'Northside Coalition of Jacksonville',\n",
    "    'BVM: Black Voters Matter',\n",
    "    'Black Man Army',\n",
    "    'ADOS: American Descendants of Slavery',\n",
    "    'SURJ: Showing Up for Racial Justice',\n",
    "    'Black Fist Coalition',\n",
    "    'BLM757',\n",
    "    'IFR: Iowa Freedom Riders',\n",
    "    \"TPR: The People's Revolution\",\n",
    "    'Palm Collective',\n",
    "    'Black Leaders Movement LNK',\n",
    "    'BSU: Black Student Union',\n",
    "    '3/20 Coalition',\n",
    "    'Mass Action Against Police Brutality',\n",
    "    'Detroit Will Breathe',\n",
    "    'NAACP: National Association for the Advancement of Colored People',\n",
    "    'Until Freedom']\n",
    "\n",
    "alt_right = [\n",
    "    'Groypers',\n",
    "    'Boogaloo Boys',\n",
    "    'Last Sons of Liberty',\n",
    "    'NSC: Nationalist Social Club',\n",
    "    'Proud Boys',\n",
    "    'Three Percenters (III%)',\n",
    "    'Virginia Kekoas',\n",
    "    \"United Pharaoh's Guard\",\n",
    "    'Texan Guerillas',\n",
    "    'ACB: Aryan Cowboys Brotherhood',\n",
    "    'White Nationalists (United States)',\n",
    "    'Antifa (United States)',\n",
    "    'Patriot Prayer',\n",
    "    'WLM: White Lives Matter'\n",
    "    'KKK: Ku Klux Klan'\n",
    "    'Michigan Liberty Militia',\n",
    "    'RAM: Rise Above Movement',\n",
    "    'ACTBAC: Alamance County Taking Back Alamance County',\n",
    "    'Setauket Patriots',\n",
    "    'League of the South',\n",
    "    \"UCA: Utah Citizens' Alarm\",\n",
    "    'American Guard',\n",
    "    'TITFF: This is Texas Freedom Force',\n",
    "    'Hammerskins',\n",
    "    'Defend East County',\n",
    "    'ILD: Idaho Liberty Dogs',\n",
    "    'Aryan Brotherhood',\n",
    "    'Michigan Wolverine Watchmen',\n",
    "    'National Socialist Vanguard',\n",
    "    'ANP: American Nazi Party']"
   ]
  },
  {
   "cell_type": "code",
   "execution_count": 12,
   "id": "78287dfe",
   "metadata": {},
   "outputs": [],
   "source": [
    "blm_aff = []\n",
    "right_aff = []\n",
    " \n",
    "for row1, row2 in zip(protests['ASSOC_ACTOR_1'], protests['ASSOC_ACTOR_2']):\n",
    "    if pd.isnull(row1):\n",
    "        if pd.isnull(row2):\n",
    "            blm_aff.append('NO')\n",
    "        elif any(actor in row2 for actor in blm_actors):\n",
    "            blm_aff.append('YES')\n",
    "        else:\n",
    "            blm_aff.append('NO') \n",
    "    elif any(actor in row1 for actor in blm_actors):\n",
    "        blm_aff.append('YES')\n",
    "    elif pd.isnull(row2):\n",
    "        blm_aff.append('NO')      \n",
    "    elif any(actor in row2 for actor in blm_actors):\n",
    "        blm_aff.append('YES')\n",
    "    else:\n",
    "        blm_aff.append('NO')   \n",
    "        \n",
    "for row1, row2 in zip(protests['ASSOC_ACTOR_1'], protests['ASSOC_ACTOR_2']):\n",
    "    if pd.isnull(row1):\n",
    "        if pd.isnull(row2):\n",
    "            right_aff.append('NO')\n",
    "        elif any(actor in row2 for actor in alt_right):\n",
    "            right_aff.append('YES')\n",
    "        else:\n",
    "            right_aff.append('NO') \n",
    "    elif any(actor in row1 for actor in alt_right):\n",
    "        right_aff.append('YES')\n",
    "    elif pd.isnull(row2):\n",
    "        right_aff.append('NO')      \n",
    "    elif any(actor in row2 for actor in alt_right):\n",
    "        right_aff.append('YES')\n",
    "    else:\n",
    "        right_aff.append('NO')  "
   ]
  },
  {
   "cell_type": "code",
   "execution_count": 13,
   "id": "70f2331b",
   "metadata": {},
   "outputs": [],
   "source": [
    "aff_column = []\n",
    "\n",
    "for blm_act, right_act in zip(blm_aff, right_aff):\n",
    "    if blm_act == 'YES' and right_act == 'YES':\n",
    "        aff_column.append('BLM & Alt-Right')\n",
    "    elif blm_act == 'YES' and right_act == 'NO':\n",
    "        aff_column.append('BLM')\n",
    "    elif blm_act == 'NO' and right_act == 'YES':\n",
    "        aff_column.append('Alt-Right')\n",
    "    elif blm_act == 'NO' and right_act == 'NO':\n",
    "        aff_column.append('Other Actors')"
   ]
  },
  {
   "cell_type": "code",
   "execution_count": 14,
   "id": "c977df75",
   "metadata": {},
   "outputs": [],
   "source": [
    "protests['Actor Affiliation'] = aff_column"
   ]
  },
  {
   "cell_type": "code",
   "execution_count": 17,
   "id": "cb5ce143",
   "metadata": {},
   "outputs": [],
   "source": [
    "protests['BLM'], protests['Alt-Right'], protests['BLM & Alt-Right'], protests['Other Actors'] = 0, 0, 0, 0\n",
    "protests.loc[protests['Actor Affiliation'] == 'BLM', 'BLM'] = 1\n",
    "protests.loc[protests['Actor Affiliation'] == 'BLM & Alt-Right', 'BLM'] = 1\n",
    "protests.loc[protests['Actor Affiliation'] == 'Alt-Right', 'Alt-Right'] = 1\n",
    "protests.loc[protests['Actor Affiliation'] == 'BLM & Alt-Right', 'Alt-Right'] = 1\n",
    "protests.loc[protests['Actor Affiliation'] == 'BLM & Alt-Right', 'BLM & Alt-Right'] = 1\n",
    "protests.loc[protests['Actor Affiliation'] == 'Other Actors', 'Other Actors'] = 1"
   ]
  },
  {
   "cell_type": "code",
   "execution_count": 18,
   "id": "c483aa0b",
   "metadata": {},
   "outputs": [],
   "source": [
    "protests.to_csv('data/ACLED_USA_2020_2022_May20_actors.csv')"
   ]
  },
  {
   "cell_type": "code",
   "execution_count": null,
   "id": "3c7ce091",
   "metadata": {},
   "outputs": [],
   "source": []
  }
 ],
 "metadata": {
  "kernelspec": {
   "display_name": "Python 3 (ipykernel)",
   "language": "python",
   "name": "python3"
  },
  "language_info": {
   "codemirror_mode": {
    "name": "ipython",
    "version": 3
   },
   "file_extension": ".py",
   "mimetype": "text/x-python",
   "name": "python",
   "nbconvert_exporter": "python",
   "pygments_lexer": "ipython3",
   "version": "3.9.7"
  }
 },
 "nbformat": 4,
 "nbformat_minor": 5
}
