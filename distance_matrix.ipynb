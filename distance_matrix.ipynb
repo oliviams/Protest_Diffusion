{
 "cells": [
  {
   "cell_type": "markdown",
   "id": "5a59a087",
   "metadata": {},
   "source": [
    "## Calculating distance between locations"
   ]
  },
  {
   "cell_type": "markdown",
   "id": "d3ab6afb",
   "metadata": {},
   "source": [
    "Using the Haversine formula to calculate distance between coordinates"
   ]
  },
  {
   "cell_type": "code",
   "execution_count": 2,
   "id": "4386e062",
   "metadata": {
    "pycharm": {
     "is_executing": true
    }
   },
   "outputs": [],
   "source": [
    "import pandas as pd\n",
    "import numpy as np\n",
    "\n",
    "from math import cos, asin, sqrt, pi\n",
    "from scipy.spatial.distance import pdist\n",
    "from scipy.spatial.distance import squareform\n",
    "\n",
    "import warnings\n",
    "warnings.filterwarnings('ignore')\n",
    "\n",
    "EARTHRADIUS = 6371.0\n",
    "\n",
    "def get_distance(row1, row2):\n",
    "    \"\"\"\n",
    "    Uses Haversine formula to get \n",
    "    distance between coordinates\n",
    "    in two columns of dataframe\n",
    "    \"\"\"\n",
    "    lat1 = row1[0]\n",
    "    lon1 = row1[1]\n",
    "    lat2 = row2[0]\n",
    "    lon2 = row2[1]\n",
    "    p = pi/180\n",
    "    a = 0.5 - cos((lat2-lat1)*p)/2 + cos(lat1*p) * cos(lat2*p) * (1-cos((lon2-lon1)*p))/2\n",
    "    km = 2 * EARTHRADIUS * asin(sqrt(a))\n",
    "    return km"
   ]
  },
  {
   "cell_type": "markdown",
   "id": "9d806fec",
   "metadata": {},
   "source": [
    "### Using GEOID as column header"
   ]
  },
  {
   "cell_type": "code",
   "execution_count": 3,
   "id": "5a070828",
   "metadata": {},
   "outputs": [],
   "source": [
    "data = pd.read_csv('data/USDATA.csv')"
   ]
  },
  {
   "cell_type": "code",
   "execution_count": 3,
   "id": "d2ae37ae",
   "metadata": {},
   "outputs": [],
   "source": [
    "dist_matrix = pd.DataFrame(squareform(pdist(data[['INTPTLAT10', 'INTPTLON10']].values, lambda u, v: get_distance(u, v))), \n",
    "                               index=data['GEOID10'], columns=data['GEOID10'])"
   ]
  },
  {
   "cell_type": "code",
   "execution_count": 9,
   "id": "0bfc1533",
   "metadata": {},
   "outputs": [],
   "source": [
    "dist_matrix = dist_matrix.loc[:, dist_matrix.columns.notna()]\n",
    "dist_matrix = dist_matrix[dist_matrix.index.notnull()]"
   ]
  },
  {
   "cell_type": "code",
   "execution_count": 10,
   "id": "b59565ed",
   "metadata": {},
   "outputs": [],
   "source": [
    "dist_matrix.to_csv('data/dist_matrix_geoid.csv')"
   ]
  },
  {
   "cell_type": "markdown",
   "id": "0d779259",
   "metadata": {},
   "source": [
    "### Using name as column header"
   ]
  },
  {
   "cell_type": "code",
   "execution_count": 5,
   "id": "e4532eb1",
   "metadata": {},
   "outputs": [],
   "source": [
    "dist_matrix_name = pd.DataFrame(squareform(pdist(data[['INTPTLAT10', 'INTPTLON10']].values, lambda u, v: get_distance(u, v))), \n",
    "                               index=data['NAME10'], columns=data['NAME10'])"
   ]
  },
  {
   "cell_type": "code",
   "execution_count": 6,
   "id": "e2b256d3",
   "metadata": {},
   "outputs": [],
   "source": [
    "dist_matrix_name = dist_matrix_name.loc[:, dist_matrix_name.columns.notna()]\n",
    "dist_matrix_name = dist_matrix_name[dist_matrix_name.index.notnull()]"
   ]
  },
  {
   "cell_type": "code",
   "execution_count": 8,
   "id": "8b4f704b",
   "metadata": {},
   "outputs": [],
   "source": [
    "dist_matrix_name.to_csv('data/dist_matrix_name.csv')"
   ]
  },
  {
   "cell_type": "code",
   "execution_count": null,
   "id": "e1c815ed",
   "metadata": {},
   "outputs": [],
   "source": []
  }
 ],
 "metadata": {
  "kernelspec": {
   "display_name": "Python 3 (ipykernel)",
   "language": "python",
   "name": "python3"
  },
  "language_info": {
   "codemirror_mode": {
    "name": "ipython",
    "version": 3
   },
   "file_extension": ".py",
   "mimetype": "text/x-python",
   "name": "python",
   "nbconvert_exporter": "python",
   "pygments_lexer": "ipython3",
   "version": "3.9.7"
  }
 },
 "nbformat": 4,
 "nbformat_minor": 5
}
