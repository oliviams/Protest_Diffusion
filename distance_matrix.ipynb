{
 "cells": [
  {
   "cell_type": "markdown",
   "id": "5a59a087",
   "metadata": {},
   "source": [
    "## Calculating distance between locations"
   ]
  },
  {
   "cell_type": "markdown",
   "id": "d3ab6afb",
   "metadata": {},
   "source": [
    "Using the Haversine formula to calculate distance between coordinates"
   ]
  },
  {
   "cell_type": "code",
   "execution_count": null,
   "id": "4386e062",
   "metadata": {
    "pycharm": {
     "is_executing": true
    }
   },
   "outputs": [],
   "source": [
    "import pandas as pd\n",
    "import numpy as np\n",
    "\n",
    "from math import cos, asin, sqrt, pi\n",
    "from scipy.spatial.distance import pdist\n",
    "from scipy.spatial.distance import squareform\n",
    "\n",
    "import warnings\n",
    "warnings.filterwarnings('ignore')\n",
    "\n",
    "EARTHRADIUS = 6371.0\n",
    "\n",
    "def get_distance(row1, row2):\n",
    "    \"\"\"\n",
    "    Uses Haversine formula to get \n",
    "    distance between coordinates\n",
    "    in two columns of dataframe\n",
    "    \"\"\"\n",
    "    lat1 = row1[0]\n",
    "    lon1 = row1[1]\n",
    "    lat2 = row2[0]\n",
    "    lon2 = row2[1]\n",
    "    p = pi/180\n",
    "    a = 0.5 - cos((lat2-lat1)*p)/2 + cos(lat1*p) * cos(lat2*p) * (1-cos((lon2-lon1)*p))/2\n",
    "    km = 2 * EARTHRADIUS * asin(sqrt(a))\n",
    "    return km"
   ]
  },
  {
   "cell_type": "code",
   "execution_count": 2,
   "id": "2d00248a",
   "metadata": {},
   "outputs": [],
   "source": [
    "# data = pd.read_csv('data/merged_dataset.csv')"
   ]
  },
  {
   "cell_type": "code",
   "execution_count": 3,
   "id": "2c0b5e8e",
   "metadata": {},
   "outputs": [],
   "source": [
    "# data_new = data.drop_duplicates(subset=['LATITUDE', 'LONGITUDE'], keep=\"first\")"
   ]
  },
  {
   "cell_type": "code",
   "execution_count": 4,
   "id": "780c141d",
   "metadata": {},
   "outputs": [],
   "source": [
    "# dist_matrix = pd.DataFrame(squareform(pdist(data_new[['LATITUDE', 'LONGITUDE']].values, lambda u, v: get_distance(u, v))), index=data_new[['LATITUDE', 'LONGITUDE']].apply(tuple, axis=1), columns=data_new[['LATITUDE', 'LONGITUDE']].apply(tuple, axis=1))"
   ]
  },
  {
   "cell_type": "markdown",
   "id": "dba07f8d",
   "metadata": {},
   "source": [
    "### Using Coordinates as Column Header\n",
    "\n",
    "Rows of the matrix are appended to the corresponding row in the protest dataset (using coordinates or location name)"
   ]
  },
  {
   "cell_type": "code",
   "execution_count": 8,
   "id": "30bef2c0",
   "metadata": {},
   "outputs": [],
   "source": [
    "# data_new['Coordinates'] = data_new[['LATITUDE', 'LONGITUDE']].apply(tuple, axis=1)"
   ]
  },
  {
   "cell_type": "code",
   "execution_count": 239,
   "id": "ed98563f",
   "metadata": {},
   "outputs": [],
   "source": [
    "# dist_matrix = dist_matrix.reset_index()"
   ]
  },
  {
   "cell_type": "code",
   "execution_count": 240,
   "id": "85496586",
   "metadata": {},
   "outputs": [],
   "source": [
    "# df_merged = pd.merge(data_new, dist_matrix, left_on='Coordinates', right_on = 'index', how='outer')"
   ]
  },
  {
   "cell_type": "markdown",
   "id": "eb9f3256",
   "metadata": {},
   "source": [
    "### Using Location as Column Header\n",
    "Currently only Aguadilla, PR is included from non-protest locations (as last row with NAN for coordiantes is kept, rest dropped as duplicates) - likely need all of these locations included with coordinates"
   ]
  },
  {
   "cell_type": "code",
   "execution_count": 242,
   "id": "3016db7b",
   "metadata": {},
   "outputs": [],
   "source": [
    "# data_loc = data.drop_duplicates(subset=['LATITUDE', 'LONGITUDE'], keep=\"first\")"
   ]
  },
  {
   "cell_type": "code",
   "execution_count": 244,
   "id": "3ff876ee",
   "metadata": {},
   "outputs": [],
   "source": [
    "# dist_matrix_loc = pd.DataFrame(squareform(pdist(data_loc[['LATITUDE', 'LONGITUDE']].values, lambda u, v: get_distance(u, v))), \n",
    "#                                index=data_loc['Full Location'], columns=data_loc['Full Location'])"
   ]
  },
  {
   "cell_type": "code",
   "execution_count": 245,
   "id": "e40dd0db",
   "metadata": {},
   "outputs": [],
   "source": [
    "# df_merged_loc = pd.merge(data_loc, dist_matrix_loc, on='Full Location', how='outer')"
   ]
  },
  {
   "cell_type": "code",
   "execution_count": 247,
   "id": "123de8d7",
   "metadata": {},
   "outputs": [],
   "source": [
    "# df_merged_loc.to_csv('data/merged_data_distances.csv')"
   ]
  },
  {
   "cell_type": "markdown",
   "id": "9d806fec",
   "metadata": {},
   "source": [
    "# Using GEOID as column header"
   ]
  },
  {
   "cell_type": "code",
   "execution_count": 9,
   "id": "5a070828",
   "metadata": {},
   "outputs": [],
   "source": [
    "weekly = pd.read_csv('data/weekly_protests.csv')"
   ]
  },
  {
   "cell_type": "code",
   "execution_count": 5,
   "id": "262640ac",
   "metadata": {},
   "outputs": [],
   "source": [
    "coords = weekly.drop_duplicates(subset=['INTPTLAT10', 'INTPTLON10'], keep=\"first\")"
   ]
  },
  {
   "cell_type": "code",
   "execution_count": 22,
   "id": "d2ae37ae",
   "metadata": {},
   "outputs": [],
   "source": [
    "dist_matrix = pd.DataFrame(squareform(pdist(coords[['INTPTLAT10', 'INTPTLON10']].values, lambda u, v: get_distance(u, v))), \n",
    "                               index=coords['GEOID10'], columns=coords['GEOID10'])"
   ]
  },
  {
   "cell_type": "code",
   "execution_count": 23,
   "id": "0bfc1533",
   "metadata": {},
   "outputs": [],
   "source": [
    "dist_matrix = dist_matrix.loc[:, dist_matrix.columns.notna()]\n",
    "dist_matrix = dist_matrix[dist_matrix.index.notnull()]"
   ]
  },
  {
   "cell_type": "code",
   "execution_count": 24,
   "id": "b59565ed",
   "metadata": {},
   "outputs": [],
   "source": [
    "dist_matrix.to_csv('data/dist_matrix_geoid.csv')"
   ]
  }
 ],
 "metadata": {
  "kernelspec": {
   "display_name": "Python 3 (ipykernel)",
   "language": "python",
   "name": "python3"
  },
  "language_info": {
   "codemirror_mode": {
    "name": "ipython",
    "version": 3
   },
   "file_extension": ".py",
   "mimetype": "text/x-python",
   "name": "python",
   "nbconvert_exporter": "python",
   "pygments_lexer": "ipython3",
   "version": "3.9.7"
  }
 },
 "nbformat": 4,
 "nbformat_minor": 5
}
