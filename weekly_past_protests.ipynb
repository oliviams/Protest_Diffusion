{
 "cells": [
  {
   "cell_type": "markdown",
   "id": "70bcdb89",
   "metadata": {},
   "source": [
    "### Number of protests within given distance\n",
    "Number of protests that happened in the past week within a given ditance. This is using the weekly dataset, where all locations are recorded every week, with an indicator for whether a protest happened here or not"
   ]
  },
  {
   "cell_type": "code",
   "execution_count": 7,
   "id": "7c1b0386",
   "metadata": {},
   "outputs": [],
   "source": [
    "import pandas as pd\n",
    "import numpy as np\n",
    "\n",
    "from collections import Counter\n",
    "import warnings\n",
    "warnings.filterwarnings('ignore')"
   ]
  },
  {
   "cell_type": "code",
   "execution_count": 8,
   "id": "d5482ca4",
   "metadata": {},
   "outputs": [],
   "source": [
    "data = pd.read_csv('data/blm_weekly_protests.csv')\n",
    "distances = pd.read_csv('data/dist_matrix_geoid.csv')\n",
    "distances = distances.set_index('GEOID10')"
   ]
  },
  {
   "cell_type": "code",
   "execution_count": 9,
   "id": "26c5b93d",
   "metadata": {},
   "outputs": [],
   "source": [
    "protest_list = data['Protest?'].to_list()"
   ]
  },
  {
   "cell_type": "code",
   "execution_count": 10,
   "id": "410b99f8",
   "metadata": {},
   "outputs": [],
   "source": [
    "split_list = [protest_list[x:x+3601] for x in range(0, len(protest_list), 3601)]"
   ]
  },
  {
   "cell_type": "markdown",
   "id": "6cafa08e",
   "metadata": {},
   "source": [
    "## Protests under a certain distance\n",
    "Matrix multiplication using the distance matrix and the column reocrding protest occurrence"
   ]
  },
  {
   "cell_type": "code",
   "execution_count": 11,
   "id": "710f3815",
   "metadata": {},
   "outputs": [],
   "source": [
    "under_500 = distances.copy()\n",
    "under_500[0<under_500<=500] = 1\n",
    "under_500[under_500>500] = 0\n",
    "\n",
    "protests_under_500 = []\n",
    "\n",
    "for i in range(0, 159):\n",
    "    protests_under_500.append(np.dot(split_list[i], under_500).tolist())\n",
    "    \n",
    "zeros = [0 for i in range(0, 3601)]\n",
    "protests_under_500.insert(0, zeros)\n",
    "protests_under_500 = protests_under_500[0:159]\n",
    "\n",
    "flat_500_list = [i for a in protests_under_500 for i in a]"
   ]
  },
  {
   "cell_type": "code",
   "execution_count": 6,
   "id": "c9a5eb4d",
   "metadata": {},
   "outputs": [],
   "source": [
    "under_1000 = distances.copy()\n",
    "under_1000[0<under_1000<=1000] = 1\n",
    "under_1000[under_1000>1000] = 0\n",
    "\n",
    "protests_under_1000 = []\n",
    "\n",
    "for i in range(0, 159):\n",
    "    protests_under_1000.append(np.dot(split_list[i], under_1000).tolist())\n",
    "    \n",
    "zeros = [0 for i in range(0, 3601)]\n",
    "protests_under_1000.insert(0, zeros)\n",
    "protests_under_1000 = protests_under_1000[0:159]\n",
    "\n",
    "flat_1000_list = [i for a in protests_under_1000 for i in a]"
   ]
  },
  {
   "cell_type": "code",
   "execution_count": 7,
   "id": "a55d7dec",
   "metadata": {},
   "outputs": [],
   "source": [
    "under_2000 = distances.copy()\n",
    "under_2000[0<under_2000<=2000] = 1\n",
    "under_2000[under_2000>2000] = 0\n",
    "\n",
    "protests_under_2000 = []\n",
    "\n",
    "for i in range(0, 159):\n",
    "    protests_under_2000.append(np.dot(split_list[i], under_2000).tolist())\n",
    "    \n",
    "zeros = [0 for i in range(0, 3601)]\n",
    "protests_under_2000.insert(0, zeros)\n",
    "protests_under_2000 = protests_under_2000[0:159]\n",
    "\n",
    "flat_2000_list = [i for a in protests_under_2000 for i in a]"
   ]
  },
  {
   "cell_type": "markdown",
   "id": "9662fb57",
   "metadata": {},
   "source": [
    "## Adding number of protests for each week and making list that can then be appended as column"
   ]
  },
  {
   "cell_type": "code",
   "execution_count": 8,
   "id": "895ef7d9",
   "metadata": {},
   "outputs": [],
   "source": [
    "sum_list = [sum(split_list[i]) for i in range(0, len(split_list))]"
   ]
  },
  {
   "cell_type": "code",
   "execution_count": 9,
   "id": "fa43fdfe",
   "metadata": {},
   "outputs": [],
   "source": [
    "sum_for_df = [val for val in sum_list for _ in range(0, 3601)]"
   ]
  },
  {
   "cell_type": "code",
   "execution_count": 10,
   "id": "a0b43e2d",
   "metadata": {},
   "outputs": [],
   "source": [
    "zeros = [0 for i in range(0, 3601)]"
   ]
  },
  {
   "cell_type": "code",
   "execution_count": 11,
   "id": "318dbdd1",
   "metadata": {},
   "outputs": [],
   "source": [
    "final_sum = zeros + sum_for_df # need a week lag\n",
    "final_sum = final_sum[0:572559]"
   ]
  },
  {
   "cell_type": "markdown",
   "id": "941e78f4",
   "metadata": {},
   "source": [
    "## Same state"
   ]
  },
  {
   "cell_type": "code",
   "execution_count": 12,
   "id": "e3599cb6",
   "metadata": {},
   "outputs": [],
   "source": [
    "data['State'] = data['NAME10'].str.split(',').str[1]\n",
    "data['State'] = data['State'].str.strip()"
   ]
  },
  {
   "cell_type": "code",
   "execution_count": 13,
   "id": "430996fe",
   "metadata": {},
   "outputs": [],
   "source": [
    "state_list = data['State'].to_list()"
   ]
  },
  {
   "cell_type": "code",
   "execution_count": 14,
   "id": "2e5f2528",
   "metadata": {},
   "outputs": [],
   "source": [
    "split_state_list = [state_list[x:x+3601] for x in range(0, len(state_list), 3601)]"
   ]
  },
  {
   "cell_type": "code",
   "execution_count": 15,
   "id": "1794d5ff",
   "metadata": {},
   "outputs": [],
   "source": [
    "list_lists = []\n",
    "\n",
    "for a, b in zip(range(0, 159), range(0, 159)):\n",
    "    new_list = []\n",
    "    for c, d in zip(split_list[a], split_state_list[b]):\n",
    "        if c == 0:\n",
    "            pass\n",
    "        elif c == 1:\n",
    "            new_list.append(d)\n",
    "    list_lists.append(new_list)"
   ]
  },
  {
   "cell_type": "code",
   "execution_count": 16,
   "id": "5f3c7288",
   "metadata": {},
   "outputs": [],
   "source": [
    "empty = []\n",
    "list_lists.insert(0, empty)\n",
    "list_lists = list_lists[0:159]"
   ]
  },
  {
   "cell_type": "code",
   "execution_count": 17,
   "id": "cb177f65",
   "metadata": {},
   "outputs": [],
   "source": [
    "dicts = [dict(Counter(list_lists[i])) for i in range(0, 159)]"
   ]
  },
  {
   "cell_type": "code",
   "execution_count": 18,
   "id": "613b54c5",
   "metadata": {},
   "outputs": [],
   "source": [
    "protests_per_state = []\n",
    "\n",
    "for state in state_list:\n",
    "    try:\n",
    "        protests_per_state.append(dicts[23][state])\n",
    "    except:\n",
    "        protests_per_state.append(0)"
   ]
  },
  {
   "cell_type": "code",
   "execution_count": 19,
   "id": "fe6af93d",
   "metadata": {},
   "outputs": [],
   "source": [
    "protests_per_state = []\n",
    "\n",
    "for i, j in zip(range(0, 159), range(0, 159)):\n",
    "    for a in split_state_list[i]:\n",
    "        try:\n",
    "            protests_per_state.append(dicts[j][a])\n",
    "        except:\n",
    "            protests_per_state.append(0)"
   ]
  },
  {
   "cell_type": "markdown",
   "id": "62d285dc",
   "metadata": {},
   "source": [
    "## Currently not accounting for states that are hyphenated (should sum value of any where two characters overlap - do this in dict?)"
   ]
  },
  {
   "cell_type": "markdown",
   "id": "dbeef4f4",
   "metadata": {},
   "source": [
    "# Adding all columns created to the df"
   ]
  },
  {
   "cell_type": "code",
   "execution_count": 20,
   "id": "3c32d97b",
   "metadata": {},
   "outputs": [],
   "source": [
    "data['Protests in past week'] = final_sum\n",
    "data['Protests in same state past week'] = protests_per_state\n",
    "data['Protests under 500km past week'] = flat_500_list\n",
    "data['Protests under 1000km past week'] = flat_1000_list\n",
    "data['Protests under 2000km past week'] = flat_2000_list"
   ]
  },
  {
   "cell_type": "code",
   "execution_count": 21,
   "id": "c9c02b55",
   "metadata": {},
   "outputs": [],
   "source": [
    "data.to_csv('data/final_weekly_data.csv')"
   ]
  },
  {
   "cell_type": "code",
   "execution_count": null,
   "id": "a88912ad",
   "metadata": {},
   "outputs": [],
   "source": []
  }
 ],
 "metadata": {
  "kernelspec": {
   "display_name": "Python 3 (ipykernel)",
   "language": "python",
   "name": "python3"
  },
  "language_info": {
   "codemirror_mode": {
    "name": "ipython",
    "version": 3
   },
   "file_extension": ".py",
   "mimetype": "text/x-python",
   "name": "python",
   "nbconvert_exporter": "python",
   "pygments_lexer": "ipython3",
   "version": "3.9.7"
  }
 },
 "nbformat": 4,
 "nbformat_minor": 5
}
