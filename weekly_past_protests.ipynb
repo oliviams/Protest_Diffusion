{
 "cells": [
  {
   "cell_type": "markdown",
   "id": "70bcdb89",
   "metadata": {},
   "source": [
    "### Number of protests within given distance\n",
    "Number of protests that happened in the past week within a given ditance. This is using the weekly dataset, where all locations are recorded every week, with an indicator for whether a protest happened here or not"
   ]
  },
  {
   "cell_type": "code",
   "execution_count": 26,
   "id": "7c1b0386",
   "metadata": {},
   "outputs": [],
   "source": [
    "import pandas as pd\n",
    "import numpy as np\n",
    "\n",
    "from collections import Counter\n",
    "import warnings\n",
    "warnings.filterwarnings('ignore')"
   ]
  },
  {
   "cell_type": "code",
   "execution_count": 27,
   "id": "d5482ca4",
   "metadata": {},
   "outputs": [],
   "source": [
    "data = pd.read_csv('data/blm_weekly_protests.csv')\n",
    "distances = pd.read_csv('data/dist_matrix_geoid.csv')\n",
    "distances = distances.set_index('GEOID10')\n",
    "urban_pop = pd.read_csv('data/population_data.csv')"
   ]
  },
  {
   "cell_type": "code",
   "execution_count": 28,
   "id": "26c5b93d",
   "metadata": {},
   "outputs": [],
   "source": [
    "protest_list = data['Protest?'].to_list()"
   ]
  },
  {
   "cell_type": "code",
   "execution_count": 29,
   "id": "410b99f8",
   "metadata": {},
   "outputs": [],
   "source": [
    "split_list = [protest_list[x:x+3601] for x in range(0, len(protest_list), 3601)]"
   ]
  },
  {
   "cell_type": "markdown",
   "id": "6cafa08e",
   "metadata": {},
   "source": [
    "## Protests under a certain distance\n",
    "Matrix multiplication using the distance matrix and the column recording protest occurrence"
   ]
  },
  {
   "cell_type": "code",
   "execution_count": 30,
   "id": "710f3815",
   "metadata": {},
   "outputs": [],
   "source": [
    "under_500 = distances.copy()\n",
    "under_500[under_500<=500] = 1\n",
    "under_500[under_500==0] = 0\n",
    "under_500[under_500>500] = 0\n",
    "\n",
    "protests_under_500 = []\n",
    "\n",
    "for i in range(0, 159):\n",
    "    protests_under_500.append(np.dot(split_list[i], under_500).tolist())\n",
    "    \n",
    "zeros = [0 for i in range(0, 3601)]\n",
    "protests_under_500.insert(0, zeros)\n",
    "protests_under_500 = protests_under_500[0:159]\n",
    "\n",
    "flat_500_list = [i for a in protests_under_500 for i in a]"
   ]
  },
  {
   "cell_type": "code",
   "execution_count": 31,
   "id": "c9a5eb4d",
   "metadata": {},
   "outputs": [],
   "source": [
    "under_1000 = distances.copy()\n",
    "under_1000[under_1000<=1000] = 1\n",
    "under_1000[under_1000==0] = 0\n",
    "under_1000[under_1000>1000] = 0\n",
    "\n",
    "protests_under_1000 = []\n",
    "\n",
    "for i in range(0, 159):\n",
    "    protests_under_1000.append(np.dot(split_list[i], under_1000).tolist())\n",
    "    \n",
    "zeros = [0 for i in range(0, 3601)]\n",
    "protests_under_1000.insert(0, zeros)\n",
    "protests_under_1000 = protests_under_1000[0:159]\n",
    "\n",
    "flat_1000_list = [i for a in protests_under_1000 for i in a]"
   ]
  },
  {
   "cell_type": "code",
   "execution_count": 32,
   "id": "a55d7dec",
   "metadata": {},
   "outputs": [],
   "source": [
    "under_2000 = distances.copy()\n",
    "under_2000[under_2000<=2000] = 1\n",
    "under_2000[under_2000==0] = 0\n",
    "under_2000[under_2000>2000] = 0\n",
    "\n",
    "protests_under_2000 = []\n",
    "\n",
    "for i in range(0, 159):\n",
    "    protests_under_2000.append(np.dot(split_list[i], under_2000).tolist())\n",
    "    \n",
    "zeros = [0 for i in range(0, 3601)]\n",
    "protests_under_2000.insert(0, zeros)\n",
    "protests_under_2000 = protests_under_2000[0:159]\n",
    "\n",
    "flat_2000_list = [i for a in protests_under_2000 for i in a]"
   ]
  },
  {
   "cell_type": "markdown",
   "id": "e922d2a6",
   "metadata": {},
   "source": [
    "## Closest protest in the past week\n",
    "\n",
    "First replacing 0s by infinity so that we can get minimum distance"
   ]
  },
  {
   "cell_type": "code",
   "execution_count": 33,
   "id": "23b601ee",
   "metadata": {},
   "outputs": [],
   "source": [
    "min_dist = []\n",
    "min_geoid = []\n",
    "\n",
    "for i in range(0, 159):\n",
    "    df = split_list[i]*distances\n",
    "    min_dist.append(df[df!=0].min(axis=1).to_list())\n",
    "    min_geoid.append(df[df!=0].idxmin(axis=1).to_list())\n",
    "\n",
    "    \n",
    "zeros = [0 for i in range(0, 3601)]\n",
    "min_dist.insert(0, zeros)\n",
    "min_dist = min_dist[0:159]\n",
    "flat_min_dist = [i for a in min_dist for i in a] \n",
    "\n",
    "zeros = [0 for i in range(0, 3601)]\n",
    "min_geoid.insert(0, zeros)\n",
    "min_geoid = min_geoid[0:159]\n",
    "flat_min_geoid = [i for a in min_geoid for i in a] "
   ]
  },
  {
   "cell_type": "markdown",
   "id": "9662fb57",
   "metadata": {},
   "source": [
    "## Total number of protests in the past week"
   ]
  },
  {
   "cell_type": "code",
   "execution_count": 34,
   "id": "895ef7d9",
   "metadata": {},
   "outputs": [],
   "source": [
    "sum_list = [sum(split_list[i]) for i in range(0, len(split_list))]"
   ]
  },
  {
   "cell_type": "code",
   "execution_count": 35,
   "id": "fa43fdfe",
   "metadata": {},
   "outputs": [],
   "source": [
    "sum_for_df = [val for val in sum_list for _ in range(0, 3601)]"
   ]
  },
  {
   "cell_type": "code",
   "execution_count": 36,
   "id": "a0b43e2d",
   "metadata": {},
   "outputs": [],
   "source": [
    "zeros = [0 for i in range(0, 3601)]"
   ]
  },
  {
   "cell_type": "code",
   "execution_count": 37,
   "id": "318dbdd1",
   "metadata": {},
   "outputs": [],
   "source": [
    "final_sum = zeros + sum_for_df # need a week lag\n",
    "final_sum = final_sum[0:572559]"
   ]
  },
  {
   "cell_type": "markdown",
   "id": "941e78f4",
   "metadata": {},
   "source": [
    "## Number of protests in the same state in the past week"
   ]
  },
  {
   "cell_type": "code",
   "execution_count": 38,
   "id": "e3599cb6",
   "metadata": {},
   "outputs": [],
   "source": [
    "data['State'] = data['NAME10'].str.split(',').str[1]\n",
    "data['State'] = data['State'].str.strip()"
   ]
  },
  {
   "cell_type": "code",
   "execution_count": 39,
   "id": "430996fe",
   "metadata": {},
   "outputs": [],
   "source": [
    "state_list = data['State'].to_list()"
   ]
  },
  {
   "cell_type": "code",
   "execution_count": 40,
   "id": "2e5f2528",
   "metadata": {},
   "outputs": [],
   "source": [
    "split_state_list = [state_list[x:x+3601] for x in range(0, len(state_list), 3601)]"
   ]
  },
  {
   "cell_type": "code",
   "execution_count": 41,
   "id": "1794d5ff",
   "metadata": {},
   "outputs": [],
   "source": [
    "list_lists = []\n",
    "\n",
    "for a, b in zip(range(0, 159), range(0, 159)):\n",
    "    new_list = []\n",
    "    for c, d in zip(split_list[a], split_state_list[b]):\n",
    "        if c == 0:\n",
    "            pass\n",
    "        elif c == 1:\n",
    "            new_list.append(d)\n",
    "    list_lists.append(new_list)"
   ]
  },
  {
   "cell_type": "code",
   "execution_count": 42,
   "id": "5f3c7288",
   "metadata": {},
   "outputs": [],
   "source": [
    "empty = []\n",
    "list_lists.insert(0, empty)\n",
    "list_lists = list_lists[0:159]"
   ]
  },
  {
   "cell_type": "code",
   "execution_count": 43,
   "id": "cb177f65",
   "metadata": {},
   "outputs": [],
   "source": [
    "dicts = [dict(Counter(list_lists[i])) for i in range(0, 159)]"
   ]
  },
  {
   "cell_type": "code",
   "execution_count": 44,
   "id": "613b54c5",
   "metadata": {},
   "outputs": [],
   "source": [
    "protests_per_state = []\n",
    "\n",
    "for state in state_list:\n",
    "    try:\n",
    "        protests_per_state.append(dicts[23][state])\n",
    "    except:\n",
    "        protests_per_state.append(0)"
   ]
  },
  {
   "cell_type": "code",
   "execution_count": 45,
   "id": "fe6af93d",
   "metadata": {},
   "outputs": [],
   "source": [
    "protests_per_state = []\n",
    "\n",
    "for i, j in zip(range(0, 159), range(0, 159)):\n",
    "    for a in split_state_list[i]:\n",
    "        try:\n",
    "            protests_per_state.append(dicts[j][a])\n",
    "        except:\n",
    "            protests_per_state.append(0)"
   ]
  },
  {
   "cell_type": "markdown",
   "id": "dbeef4f4",
   "metadata": {},
   "source": [
    "# Adding all columns created to the df"
   ]
  },
  {
   "cell_type": "code",
   "execution_count": 46,
   "id": "3c32d97b",
   "metadata": {},
   "outputs": [],
   "source": [
    "data['Protests in past week'] = final_sum\n",
    "data['Protests in same state past week'] = protests_per_state\n",
    "data['Protests under 500km past week'] = flat_500_list\n",
    "data['Protests under 1000km past week'] = flat_1000_list\n",
    "data['Protests under 2000km past week'] = flat_2000_list\n",
    "data['Distance to closest protest past week'] = flat_min_dist\n",
    "data['GEOID closest protest past week'] = flat_min_geoid"
   ]
  },
  {
   "cell_type": "markdown",
   "id": "cd70bdce",
   "metadata": {},
   "source": [
    "## Population data for the closes protest in the past week\n",
    "\n",
    "Adding population data for the closest protest in the past week, as well as difference between these and population data for the current location"
   ]
  },
  {
   "cell_type": "code",
   "execution_count": 47,
   "id": "f5490095",
   "metadata": {},
   "outputs": [],
   "source": [
    "data['GEOID closest protest past week'] = pd.to_numeric(data['GEOID closest protest past week'])"
   ]
  },
  {
   "cell_type": "code",
   "execution_count": 48,
   "id": "d154d266",
   "metadata": {},
   "outputs": [],
   "source": [
    "final_df = data.merge(urban_pop,left_on='GEOID closest protest past week', right_on='GEOID10', how='left')"
   ]
  },
  {
   "cell_type": "code",
   "execution_count": 49,
   "id": "feb030f0",
   "metadata": {},
   "outputs": [],
   "source": [
    "columns_format = ['20 to 24 years_x', '20 to 24 years_y', '25 to 34 years_x', '25 to 34 years_y', \n",
    "          '65 years and over_x', '65 years and over_y', 'Male_x', 'Male_y',\n",
    "          'Black or African American_x', 'Black or African American_y',\n",
    "          'White_x', 'White_y']\n",
    "\n",
    "for column in columns_format:\n",
    "    final_df[column] = final_df[column].replace('[%\\,]', '', regex=True).astype(float)\n",
    "    \n",
    "final_df['Dif 20-24'] = final_df['20 to 24 years_y'] - final_df['20 to 24 years_x']\n",
    "final_df['Dif 25-34'] = final_df['25 to 34 years_y'] - final_df['25 to 34 years_x']\n",
    "final_df['Dif over 65'] = final_df['65 years and over_y'] - final_df['65 years and over_x']\n",
    "final_df['Dif Male'] = final_df['Male_y'] - final_df['Male_x']\n",
    "final_df['Dif Black'] = final_df['Black or African American_y'] - final_df['Black or African American_x']\n",
    "final_df['Dif White'] = final_df['White_y'] - final_df['White_x']\n",
    "final_df['Dif HBCU'] = final_df['HBCU_y'] - final_df['HBCU_x']\n",
    "\n"
   ]
  },
  {
   "cell_type": "markdown",
   "id": "189c3f7e",
   "metadata": {},
   "source": [
    "## Exporting final dataset"
   ]
  },
  {
   "cell_type": "code",
   "execution_count": 50,
   "id": "c9c02b55",
   "metadata": {},
   "outputs": [],
   "source": [
    "final_df.to_csv('data/final_weekly_data.csv')"
   ]
  },
  {
   "cell_type": "code",
   "execution_count": null,
   "id": "41ccffe8",
   "metadata": {},
   "outputs": [],
   "source": []
  }
 ],
 "metadata": {
  "kernelspec": {
   "display_name": "Python 3 (ipykernel)",
   "language": "python",
   "name": "python3"
  },
  "language_info": {
   "codemirror_mode": {
    "name": "ipython",
    "version": 3
   },
   "file_extension": ".py",
   "mimetype": "text/x-python",
   "name": "python",
   "nbconvert_exporter": "python",
   "pygments_lexer": "ipython3",
   "version": "3.9.7"
  }
 },
 "nbformat": 4,
 "nbformat_minor": 5
}
